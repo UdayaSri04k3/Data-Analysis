{
  "nbformat": 4,
  "nbformat_minor": 0,
  "metadata": {
    "colab": {
      "provenance": []
    },
    "kernelspec": {
      "name": "python3",
      "display_name": "Python 3"
    },
    "language_info": {
      "name": "python"
    }
  },
  "cells": [
    {
      "cell_type": "code",
      "execution_count": null,
      "metadata": {
        "colab": {
          "base_uri": "https://localhost:8080/"
        },
        "id": "fr1CdqGxUoct",
        "outputId": "c565d585-7dbe-4398-d994-095358c0cc8f"
      },
      "outputs": [
        {
          "output_type": "stream",
          "name": "stdout",
          "text": [
            "Enter city nameAmalapuram\n",
            "{'location': {'name': 'Amalapuram', 'region': 'Andhra Pradesh', 'country': 'India', 'lat': 16.58, 'lon': 82.02, 'tz_id': 'Asia/Kolkata', 'localtime_epoch': 1709101167, 'localtime': '2024-02-28 11:49'}, 'current': {'last_updated_epoch': 1709100900, 'last_updated': '2024-02-28 11:45', 'temp_c': 33.2, 'temp_f': 91.8, 'is_day': 1, 'condition': {'text': 'Sunny', 'icon': '//cdn.weatherapi.com/weather/64x64/day/113.png', 'code': 1000}, 'wind_mph': 6.0, 'wind_kph': 9.7, 'wind_degree': 118, 'wind_dir': 'ESE', 'pressure_mb': 1013.0, 'pressure_in': 29.92, 'precip_mm': 0.0, 'precip_in': 0.0, 'humidity': 39, 'cloud': 3, 'feelslike_c': 34.6, 'feelslike_f': 94.3, 'vis_km': 10.0, 'vis_miles': 6.0, 'uv': 8.0, 'gust_mph': 7.0, 'gust_kph': 11.2}}\n"
          ]
        }
      ],
      "source": [
        "import requests\n",
        "api_key='982c38698a9245e399a60153242802'\n",
        "city=input(\"Enter city name\")\n",
        "url=f'http://api.weatherapi.com/v1/current.json?key={api_key}&q={city}' #{}--->customization\n",
        "response=requests.get(url)\n",
        "data=response.json()\n",
        "print(data)"
      ]
    },
    {
      "cell_type": "code",
      "source": [
        "type(data)"
      ],
      "metadata": {
        "colab": {
          "base_uri": "https://localhost:8080/"
        },
        "id": "2VyE_MtvVjiq",
        "outputId": "2aca3103-a7fa-427e-dbe6-cf391ef7f7d5"
      },
      "execution_count": null,
      "outputs": [
        {
          "output_type": "execute_result",
          "data": {
            "text/plain": [
              "dict"
            ]
          },
          "metadata": {},
          "execution_count": 2
        }
      ]
    },
    {
      "cell_type": "code",
      "source": [
        "print(\"City :\",data[\"location\"][\"name\"])\n",
        "print(\"State :\",data[\"location\"][\"region\"])\n",
        "print(\"Current condition :\",data[\"current\"][\"condition\"][\"text\"])\n",
        "print(\"Country :\",data[\"location\"][\"country\"])\n",
        "print(\"Temperature :\",data[\"current\"][\"temp_c\"])\n",
        "print(\"Wind speed :\",data[\"current\"][\"wind_mph\"])\n",
        "print(\"Wind direction :\",data[\"current\"][\"wind_dir\"])\n",
        "print(\"Humidity :\",data[\"current\"][\"humidity\"])\n",
        "print(\"feels:\",data[\"current\"][\"feelslike_c\"])"
      ],
      "metadata": {
        "colab": {
          "base_uri": "https://localhost:8080/"
        },
        "id": "hVSYjBQQaiU9",
        "outputId": "96339e81-bf25-4ded-e291-f819ad8c986f"
      },
      "execution_count": null,
      "outputs": [
        {
          "output_type": "stream",
          "name": "stdout",
          "text": [
            "City : Amalapuram\n",
            "State : Andhra Pradesh\n",
            "Current condition : Sunny\n",
            "Country : India\n",
            "Temperature : 33.2\n",
            "Wind speed : 6.0\n",
            "Wind direction : ESE\n",
            "Humidity : 39\n",
            "feels: 34.6\n"
          ]
        }
      ]
    },
    {
      "cell_type": "code",
      "source": [
        "import requests\n",
        "api_key='982c38698a9245e399a60153242802'\n",
        "city=input(\"Enter city name\")\n",
        "url=f'http://api.weatherapi.com/v1/current.json?key={api_key}&q={city}'\n",
        "response=requests.get(url)\n",
        "data=response.json()\n",
        "print(data)\n",
        "\n",
        "\n",
        "\n",
        "if response.status_code==200:\n",
        "  print(\"City :\",data[\"location\"][\"name\"])\n",
        "  print(\"State :\",data[\"location\"][\"region\"])\n",
        "  print(\"Current condition :\",data[\"current\"][\"condition\"][\"text\"])\n",
        "  print(\"Country :\",data[\"location\"][\"country\"])\n",
        "  print(\"Temperature :\",data[\"current\"][\"temp_c\"])\n",
        "  print(\"Wind speed :\",data[\"current\"][\"wind_mph\"])\n",
        "  print(\"Wind direction :\",data[\"current\"][\"wind_dir\"])\n",
        "  print(\"Humidity :\",data[\"current\"][\"humidity\"])\n",
        "  print(\"feels:\",data[\"current\"][\"feelslike_c\"])\n",
        "else:\n",
        "  print(data['error']['message'])"
      ],
      "metadata": {
        "colab": {
          "base_uri": "https://localhost:8080/"
        },
        "id": "1c7Qtj7tVm2R",
        "outputId": "a28eaebf-06f2-41e0-8adb-d93fa3ba81f2"
      },
      "execution_count": null,
      "outputs": [
        {
          "output_type": "stream",
          "name": "stdout",
          "text": [
            "Enter city name34gvf\n",
            "{'error': {'code': 1006, 'message': 'No matching location found.'}}\n",
            "No matching location found.\n"
          ]
        }
      ]
    },
    {
      "cell_type": "code",
      "source": [
        "from sklearn.linear_model import LinearRegression\n",
        "LR=LinearRegression()"
      ],
      "metadata": {
        "id": "CTen2afyahFj"
      },
      "execution_count": null,
      "outputs": []
    },
    {
      "cell_type": "code",
      "source": [
        "t=[[5],[7],[12],[16],[20]]\n",
        "m=[40,120,180,210,240]\n",
        "LR.fit(t,m)"
      ],
      "metadata": {
        "id": "73B2vwUFEqKV",
        "outputId": "813f6ad7-b62f-4598-cf6a-3e9b2d8db9eb",
        "colab": {
          "base_uri": "https://localhost:8080/",
          "height": 74
        }
      },
      "execution_count": null,
      "outputs": [
        {
          "output_type": "execute_result",
          "data": {
            "text/plain": [
              "LinearRegression()"
            ],
            "text/html": [
              "<style>#sk-container-id-1 {color: black;background-color: white;}#sk-container-id-1 pre{padding: 0;}#sk-container-id-1 div.sk-toggleable {background-color: white;}#sk-container-id-1 label.sk-toggleable__label {cursor: pointer;display: block;width: 100%;margin-bottom: 0;padding: 0.3em;box-sizing: border-box;text-align: center;}#sk-container-id-1 label.sk-toggleable__label-arrow:before {content: \"▸\";float: left;margin-right: 0.25em;color: #696969;}#sk-container-id-1 label.sk-toggleable__label-arrow:hover:before {color: black;}#sk-container-id-1 div.sk-estimator:hover label.sk-toggleable__label-arrow:before {color: black;}#sk-container-id-1 div.sk-toggleable__content {max-height: 0;max-width: 0;overflow: hidden;text-align: left;background-color: #f0f8ff;}#sk-container-id-1 div.sk-toggleable__content pre {margin: 0.2em;color: black;border-radius: 0.25em;background-color: #f0f8ff;}#sk-container-id-1 input.sk-toggleable__control:checked~div.sk-toggleable__content {max-height: 200px;max-width: 100%;overflow: auto;}#sk-container-id-1 input.sk-toggleable__control:checked~label.sk-toggleable__label-arrow:before {content: \"▾\";}#sk-container-id-1 div.sk-estimator input.sk-toggleable__control:checked~label.sk-toggleable__label {background-color: #d4ebff;}#sk-container-id-1 div.sk-label input.sk-toggleable__control:checked~label.sk-toggleable__label {background-color: #d4ebff;}#sk-container-id-1 input.sk-hidden--visually {border: 0;clip: rect(1px 1px 1px 1px);clip: rect(1px, 1px, 1px, 1px);height: 1px;margin: -1px;overflow: hidden;padding: 0;position: absolute;width: 1px;}#sk-container-id-1 div.sk-estimator {font-family: monospace;background-color: #f0f8ff;border: 1px dotted black;border-radius: 0.25em;box-sizing: border-box;margin-bottom: 0.5em;}#sk-container-id-1 div.sk-estimator:hover {background-color: #d4ebff;}#sk-container-id-1 div.sk-parallel-item::after {content: \"\";width: 100%;border-bottom: 1px solid gray;flex-grow: 1;}#sk-container-id-1 div.sk-label:hover label.sk-toggleable__label {background-color: #d4ebff;}#sk-container-id-1 div.sk-serial::before {content: \"\";position: absolute;border-left: 1px solid gray;box-sizing: border-box;top: 0;bottom: 0;left: 50%;z-index: 0;}#sk-container-id-1 div.sk-serial {display: flex;flex-direction: column;align-items: center;background-color: white;padding-right: 0.2em;padding-left: 0.2em;position: relative;}#sk-container-id-1 div.sk-item {position: relative;z-index: 1;}#sk-container-id-1 div.sk-parallel {display: flex;align-items: stretch;justify-content: center;background-color: white;position: relative;}#sk-container-id-1 div.sk-item::before, #sk-container-id-1 div.sk-parallel-item::before {content: \"\";position: absolute;border-left: 1px solid gray;box-sizing: border-box;top: 0;bottom: 0;left: 50%;z-index: -1;}#sk-container-id-1 div.sk-parallel-item {display: flex;flex-direction: column;z-index: 1;position: relative;background-color: white;}#sk-container-id-1 div.sk-parallel-item:first-child::after {align-self: flex-end;width: 50%;}#sk-container-id-1 div.sk-parallel-item:last-child::after {align-self: flex-start;width: 50%;}#sk-container-id-1 div.sk-parallel-item:only-child::after {width: 0;}#sk-container-id-1 div.sk-dashed-wrapped {border: 1px dashed gray;margin: 0 0.4em 0.5em 0.4em;box-sizing: border-box;padding-bottom: 0.4em;background-color: white;}#sk-container-id-1 div.sk-label label {font-family: monospace;font-weight: bold;display: inline-block;line-height: 1.2em;}#sk-container-id-1 div.sk-label-container {text-align: center;}#sk-container-id-1 div.sk-container {/* jupyter's `normalize.less` sets `[hidden] { display: none; }` but bootstrap.min.css set `[hidden] { display: none !important; }` so we also need the `!important` here to be able to override the default hidden behavior on the sphinx rendered scikit-learn.org. See: https://github.com/scikit-learn/scikit-learn/issues/21755 */display: inline-block !important;position: relative;}#sk-container-id-1 div.sk-text-repr-fallback {display: none;}</style><div id=\"sk-container-id-1\" class=\"sk-top-container\"><div class=\"sk-text-repr-fallback\"><pre>LinearRegression()</pre><b>In a Jupyter environment, please rerun this cell to show the HTML representation or trust the notebook. <br />On GitHub, the HTML representation is unable to render, please try loading this page with nbviewer.org.</b></div><div class=\"sk-container\" hidden><div class=\"sk-item\"><div class=\"sk-estimator sk-toggleable\"><input class=\"sk-toggleable__control sk-hidden--visually\" id=\"sk-estimator-id-1\" type=\"checkbox\" checked><label for=\"sk-estimator-id-1\" class=\"sk-toggleable__label sk-toggleable__label-arrow\">LinearRegression</label><div class=\"sk-toggleable__content\"><pre>LinearRegression()</pre></div></div></div></div></div>"
            ]
          },
          "metadata": {},
          "execution_count": 3
        }
      ]
    },
    {
      "cell_type": "code",
      "source": [
        "import requests\n",
        "\n",
        "url = \"https://myallies-breaking-news-v1.p.rapidapi.com/GetCompanyDetailsBySymbol\"\n",
        "\n",
        "querystring = {\"symbol\":\"twtr\"}\n",
        "\n",
        "headers = {\n",
        "\t\"X-RapidAPI-Key\": \"115a1c9e63msha99b8a0feaa53c9p1597e0jsn1d395f179392\",\n",
        "\t\"X-RapidAPI-Host\": \"myallies-breaking-news-v1.p.rapidapi.com\"\n",
        "}\n",
        "\n",
        "response = requests.get(url, headers=headers, params=querystring)\n",
        "\n",
        "print(response.json())"
      ],
      "metadata": {
        "colab": {
          "base_uri": "https://localhost:8080/"
        },
        "id": "zdXqS51DZIUU",
        "outputId": "aa2bf7dd-ebf8-4bbc-a16e-1e60db8ce1f7"
      },
      "execution_count": null,
      "outputs": [
        {
          "output_type": "stream",
          "name": "stdout",
          "text": [
            "{'messages': 'The API is unreachable, please contact the API provider', 'info': 'Your Client (working) ---> Gateway (working) ---> API (not working)'}\n"
          ]
        }
      ]
    },
    {
      "cell_type": "code",
      "source": [
        "import requests\n",
        "\n",
        "url = \"https://myallies-breaking-news-v1.p.rapidapi.com/GetTopNews\"\n",
        "\n",
        "headers = {\n",
        "\t\"X-RapidAPI-Key\": \"115a1c9e63msha99b8a0feaa53c9p1597e0jsn1d395f179392\",\n",
        "\t\"X-RapidAPI-Host\": \"myallies-breaking-news-v1.p.rapidapi.com\"\n",
        "}\n",
        "\n",
        "response = requests.get(url, headers=headers)\n",
        "\n",
        "print(response.json())"
      ],
      "metadata": {
        "colab": {
          "base_uri": "https://localhost:8080/"
        },
        "id": "MwrrNE6OzF-6",
        "outputId": "eeccb4d8-5f5d-44fc-878e-d3d40029e10b"
      },
      "execution_count": null,
      "outputs": [
        {
          "output_type": "stream",
          "name": "stdout",
          "text": [
            "{'messages': 'The API is unreachable, please contact the API provider', 'info': 'Your Client (working) ---> Gateway (working) ---> API (not working)'}\n"
          ]
        }
      ]
    },
    {
      "cell_type": "code",
      "source": [
        "import requests\n",
        "\n",
        "url = \"https://alpha-vantage.p.rapidapi.com/query\"\n",
        "\n",
        "querystring = {\"symbol\":\"MSFT\",\"function\":\"TIME_SERIES_INTRADAY\",\"interval\":\"5min\",\"output_size\":\"compact\",\"datatype\":\"json\"}\n",
        "\n",
        "headers = {\n",
        "\t\"X-RapidAPI-Key\": \"115a1c9e63msha99b8a0feaa53c9p1597e0jsn1d395f179392\",\n",
        "\t\"X-RapidAPI-Host\": \"alpha-vantage.p.rapidapi.com\"\n",
        "}\n",
        "\n",
        "response = requests.get(url, headers=headers, params=querystring)\n",
        "\n",
        "print(response.json())"
      ],
      "metadata": {
        "id": "ZKvJ4l3u0c5a",
        "outputId": "c3c95c28-e4aa-483d-d313-7c56c4672443",
        "colab": {
          "base_uri": "https://localhost:8080/"
        }
      },
      "execution_count": null,
      "outputs": [
        {
          "output_type": "stream",
          "name": "stdout",
          "text": [
            "{'Meta Data': {'1. Information': 'Intraday (5min) open, high, low, close prices and volume', '2. Symbol': 'MSFT', '3. Last Refreshed': '2024-02-28 19:55:00', '4. Interval': '5min', '5. Output Size': 'Compact', '6. Time Zone': 'US/Eastern'}, 'Time Series (5min)': {'2024-02-28 19:55:00': {'1. open': '407.3500', '2. high': '407.3500', '3. low': '406.3500', '4. close': '406.8500', '5. volume': '1788'}, '2024-02-28 19:50:00': {'1. open': '407.0250', '2. high': '407.7000', '3. low': '406.3500', '4. close': '406.6600', '5. volume': '164'}, '2024-02-28 19:45:00': {'1. open': '407.3450', '2. high': '407.7000', '3. low': '406.9750', '4. close': '407.2000', '5. volume': '2320'}, '2024-02-28 19:40:00': {'1. open': '406.3000', '2. high': '407.6900', '3. low': '405.9100', '4. close': '407.6900', '5. volume': '5519'}, '2024-02-28 19:35:00': {'1. open': '406.2700', '2. high': '406.3000', '3. low': '405.9100', '4. close': '406.1050', '5. volume': '412'}, '2024-02-28 19:30:00': {'1. open': '406.0600', '2. high': '406.3000', '3. low': '405.9100', '4. close': '406.1050', '5. volume': '435'}, '2024-02-28 19:25:00': {'1. open': '406.1900', '2. high': '406.3000', '3. low': '405.9100', '4. close': '406.0500', '5. volume': '400'}, '2024-02-28 19:20:00': {'1. open': '405.9700', '2. high': '406.4200', '3. low': '405.7600', '4. close': '406.0300', '5. volume': '824'}, '2024-02-28 19:15:00': {'1. open': '406.3000', '2. high': '406.3000', '3. low': '405.7600', '4. close': '405.9700', '5. volume': '369'}, '2024-02-28 19:10:00': {'1. open': '406.2600', '2. high': '406.3000', '3. low': '405.7500', '4. close': '406.2400', '5. volume': '316'}, '2024-02-28 19:05:00': {'1. open': '405.9650', '2. high': '406.3000', '3. low': '405.6600', '4. close': '406.0250', '5. volume': '705'}, '2024-02-28 19:00:00': {'1. open': '405.9300', '2. high': '406.3000', '3. low': '405.5600', '4. close': '406.3000', '5. volume': '196'}, '2024-02-28 18:55:00': {'1. open': '406.1000', '2. high': '406.3000', '3. low': '405.5500', '4. close': '406.3000', '5. volume': '572'}, '2024-02-28 18:50:00': {'1. open': '405.9500', '2. high': '406.3000', '3. low': '405.3500', '4. close': '405.9000', '5. volume': '1780'}, '2024-02-28 18:45:00': {'1. open': '406.2700', '2. high': '406.3000', '3. low': '405.9000', '4. close': '405.9990', '5. volume': '2241'}, '2024-02-28 18:40:00': {'1. open': '406.1500', '2. high': '406.3000', '3. low': '406.0000', '4. close': '406.2000', '5. volume': '847'}, '2024-02-28 18:35:00': {'1. open': '406.1500', '2. high': '406.3000', '3. low': '406.0000', '4. close': '406.0100', '5. volume': '62'}, '2024-02-28 18:30:00': {'1. open': '406.2500', '2. high': '406.5000', '3. low': '406.0000', '4. close': '406.1500', '5. volume': '1468'}, '2024-02-28 18:25:00': {'1. open': '406.3900', '2. high': '406.5000', '3. low': '405.9000', '4. close': '406.3500', '5. volume': '1014'}, '2024-02-28 18:20:00': {'1. open': '406.1900', '2. high': '406.4900', '3. low': '405.7500', '4. close': '406.3200', '5. volume': '1284'}, '2024-02-28 18:15:00': {'1. open': '406.1950', '2. high': '406.2900', '3. low': '405.7500', '4. close': '405.9700', '5. volume': '610'}, '2024-02-28 18:10:00': {'1. open': '405.9500', '2. high': '406.3300', '3. low': '405.9500', '4. close': '406.1950', '5. volume': '1106'}, '2024-02-28 18:05:00': {'1. open': '405.7250', '2. high': '406.1000', '3. low': '405.5100', '4. close': '406.0000', '5. volume': '1717'}, '2024-02-28 18:00:00': {'1. open': '405.4900', '2. high': '406.0000', '3. low': '405.3700', '4. close': '405.7250', '5. volume': '3488'}, '2024-02-28 17:55:00': {'1. open': '405.5600', '2. high': '405.6900', '3. low': '405.0500', '4. close': '405.4900', '5. volume': '208'}, '2024-02-28 17:50:00': {'1. open': '405.5950', '2. high': '405.6900', '3. low': '405.3000', '4. close': '405.6900', '5. volume': '948'}, '2024-02-28 17:45:00': {'1. open': '405.2200', '2. high': '405.6900', '3. low': '405.2200', '4. close': '405.4700', '5. volume': '1508'}, '2024-02-28 17:40:00': {'1. open': '405.1800', '2. high': '405.5800', '3. low': '405.0000', '4. close': '405.4000', '5. volume': '2874'}, '2024-02-28 17:35:00': {'1. open': '405.2900', '2. high': '405.3000', '3. low': '405.0000', '4. close': '405.1500', '5. volume': '1200'}, '2024-02-28 17:30:00': {'1. open': '405.5700', '2. high': '405.6900', '3. low': '405.0000', '4. close': '405.0000', '5. volume': '3216'}, '2024-02-28 17:25:00': {'1. open': '405.4900', '2. high': '405.7200', '3. low': '405.3500', '4. close': '405.6900', '5. volume': '1343'}, '2024-02-28 17:20:00': {'1. open': '405.2600', '2. high': '405.8400', '3. low': '405.0850', '4. close': '405.4520', '5. volume': '1584'}, '2024-02-28 17:15:00': {'1. open': '404.9000', '2. high': '405.3500', '3. low': '404.8300', '4. close': '405.1000', '5. volume': '2392'}, '2024-02-28 17:10:00': {'1. open': '405.1350', '2. high': '405.3000', '3. low': '404.9700', '4. close': '404.9890', '5. volume': '1681'}, '2024-02-28 17:05:00': {'1. open': '405.1000', '2. high': '405.2200', '3. low': '405.0500', '4. close': '405.1350', '5. volume': '3165'}, '2024-02-28 17:00:00': {'1. open': '405.2000', '2. high': '405.3400', '3. low': '405.0000', '4. close': '405.0600', '5. volume': '1855'}, '2024-02-28 16:55:00': {'1. open': '404.9000', '2. high': '405.3500', '3. low': '404.8800', '4. close': '405.2200', '5. volume': '9257'}, '2024-02-28 16:50:00': {'1. open': '404.9700', '2. high': '431.9870', '3. low': '404.8600', '4. close': '404.9000', '5. volume': '40149'}, '2024-02-28 16:45:00': {'1. open': '405.2900', '2. high': '415.8000', '3. low': '400.6270', '4. close': '404.9700', '5. volume': '32465'}, '2024-02-28 16:40:00': {'1. open': '405.2000', '2. high': '407.7200', '3. low': '405.2000', '4. close': '405.2700', '5. volume': '32003'}, '2024-02-28 16:35:00': {'1. open': '405.4000', '2. high': '405.9800', '3. low': '405.0600', '4. close': '405.2400', '5. volume': '11072'}, '2024-02-28 16:30:00': {'1. open': '405.7000', '2. high': '405.7000', '3. low': '405.3500', '4. close': '405.3800', '5. volume': '4099'}, '2024-02-28 16:25:00': {'1. open': '405.7400', '2. high': '405.9000', '3. low': '405.6200', '4. close': '405.6310', '5. volume': '5964'}, '2024-02-28 16:20:00': {'1. open': '405.6100', '2. high': '407.7200', '3. low': '405.6000', '4. close': '405.8200', '5. volume': '15036'}, '2024-02-28 16:15:00': {'1. open': '406.0600', '2. high': '407.7200', '3. low': '405.6000', '4. close': '405.7000', '5. volume': '4754'}, '2024-02-28 16:10:00': {'1. open': '407.7200', '2. high': '407.7200', '3. low': '405.7000', '4. close': '406.1000', '5. volume': '22538'}, '2024-02-28 16:05:00': {'1. open': '407.1900', '2. high': '407.7200', '3. low': '405.0000', '4. close': '405.7900', '5. volume': '29608'}, '2024-02-28 16:00:00': {'1. open': '407.7400', '2. high': '407.9500', '3. low': '407.0600', '4. close': '407.1800', '5. volume': '4390479'}, '2024-02-28 15:55:00': {'1. open': '407.2450', '2. high': '407.8300', '3. low': '407.1650', '4. close': '407.7400', '5. volume': '887949'}, '2024-02-28 15:50:00': {'1. open': '407.5800', '2. high': '407.5800', '3. low': '406.9800', '4. close': '407.2450', '5. volume': '289860'}, '2024-02-28 15:45:00': {'1. open': '407.2150', '2. high': '407.6200', '3. low': '406.9900', '4. close': '407.5590', '5. volume': '219114'}, '2024-02-28 15:40:00': {'1. open': '407.5400', '2. high': '407.5700', '3. low': '407.1900', '4. close': '407.2100', '5. volume': '97155'}, '2024-02-28 15:35:00': {'1. open': '407.7700', '2. high': '407.8900', '3. low': '407.5400', '4. close': '407.5400', '5. volume': '118117'}, '2024-02-28 15:30:00': {'1. open': '407.8800', '2. high': '407.9850', '3. low': '407.6800', '4. close': '407.8240', '5. volume': '166663'}, '2024-02-28 15:25:00': {'1. open': '407.2400', '2. high': '407.9300', '3. low': '407.1900', '4. close': '407.8990', '5. volume': '213805'}, '2024-02-28 15:20:00': {'1. open': '407.0750', '2. high': '407.4050', '3. low': '407.0150', '4. close': '407.2400', '5. volume': '134537'}, '2024-02-28 15:15:00': {'1. open': '406.7800', '2. high': '407.1200', '3. low': '406.7240', '4. close': '407.0800', '5. volume': '74328'}, '2024-02-28 15:10:00': {'1. open': '406.8400', '2. high': '406.8500', '3. low': '406.6350', '4. close': '406.8000', '5. volume': '92721'}, '2024-02-28 15:05:00': {'1. open': '407.2200', '2. high': '407.2750', '3. low': '406.7700', '4. close': '406.8620', '5. volume': '91392'}, '2024-02-28 15:00:00': {'1. open': '407.1600', '2. high': '407.4900', '3. low': '407.1600', '4. close': '407.2300', '5. volume': '108858'}, '2024-02-28 14:55:00': {'1. open': '406.9200', '2. high': '407.2500', '3. low': '406.8700', '4. close': '407.1500', '5. volume': '67229'}, '2024-02-28 14:50:00': {'1. open': '406.7000', '2. high': '406.9300', '3. low': '406.4300', '4. close': '406.9100', '5. volume': '84234'}, '2024-02-28 14:45:00': {'1. open': '406.3300', '2. high': '406.7600', '3. low': '406.3000', '4. close': '406.6500', '5. volume': '73131'}, '2024-02-28 14:40:00': {'1. open': '406.5800', '2. high': '406.5800', '3. low': '406.2100', '4. close': '406.3300', '5. volume': '79493'}, '2024-02-28 14:35:00': {'1. open': '406.8200', '2. high': '406.8300', '3. low': '406.4700', '4. close': '406.5600', '5. volume': '101353'}, '2024-02-28 14:30:00': {'1. open': '406.7900', '2. high': '406.8900', '3. low': '406.6700', '4. close': '406.8300', '5. volume': '95485'}, '2024-02-28 14:25:00': {'1. open': '407.2300', '2. high': '407.2600', '3. low': '406.7900', '4. close': '406.8100', '5. volume': '66584'}, '2024-02-28 14:20:00': {'1. open': '407.1140', '2. high': '407.3700', '3. low': '407.0000', '4. close': '407.2000', '5. volume': '69016'}, '2024-02-28 14:15:00': {'1. open': '407.1000', '2. high': '407.2500', '3. low': '406.8900', '4. close': '407.1000', '5. volume': '93735'}, '2024-02-28 14:10:00': {'1. open': '407.4200', '2. high': '407.4600', '3. low': '407.0100', '4. close': '407.1100', '5. volume': '81683'}, '2024-02-28 14:05:00': {'1. open': '407.6100', '2. high': '407.6100', '3. low': '407.3700', '4. close': '407.4300', '5. volume': '85808'}, '2024-02-28 14:00:00': {'1. open': '407.6200', '2. high': '407.7900', '3. low': '407.5800', '4. close': '407.6000', '5. volume': '105172'}, '2024-02-28 13:55:00': {'1. open': '407.2000', '2. high': '407.6000', '3. low': '407.2000', '4. close': '407.6000', '5. volume': '93858'}, '2024-02-28 13:50:00': {'1. open': '407.1400', '2. high': '407.2800', '3. low': '407.0400', '4. close': '407.1800', '5. volume': '52985'}, '2024-02-28 13:45:00': {'1. open': '407.3000', '2. high': '407.4010', '3. low': '407.1400', '4. close': '407.1500', '5. volume': '69557'}, '2024-02-28 13:40:00': {'1. open': '407.3900', '2. high': '407.4500', '3. low': '407.2570', '4. close': '407.2700', '5. volume': '68686'}, '2024-02-28 13:35:00': {'1. open': '407.1680', '2. high': '407.3700', '3. low': '407.0300', '4. close': '407.3700', '5. volume': '74475'}, '2024-02-28 13:30:00': {'1. open': '407.2000', '2. high': '407.4500', '3. low': '407.0700', '4. close': '407.1500', '5. volume': '90784'}, '2024-02-28 13:25:00': {'1. open': '407.1200', '2. high': '407.3400', '3. low': '407.0300', '4. close': '407.1800', '5. volume': '77069'}, '2024-02-28 13:20:00': {'1. open': '406.9450', '2. high': '407.2000', '3. low': '406.9450', '4. close': '407.1100', '5. volume': '80381'}, '2024-02-28 13:15:00': {'1. open': '406.6400', '2. high': '407.0900', '3. low': '406.6400', '4. close': '406.9500', '5. volume': '77703'}, '2024-02-28 13:10:00': {'1. open': '406.2300', '2. high': '406.6300', '3. low': '406.0390', '4. close': '406.6300', '5. volume': '78897'}, '2024-02-28 13:05:00': {'1. open': '406.3900', '2. high': '406.5500', '3. low': '406.1800', '4. close': '406.2400', '5. volume': '74632'}, '2024-02-28 13:00:00': {'1. open': '406.5500', '2. high': '406.7840', '3. low': '406.3900', '4. close': '406.4000', '5. volume': '61972'}, '2024-02-28 12:55:00': {'1. open': '406.6300', '2. high': '406.7350', '3. low': '406.5400', '4. close': '406.5800', '5. volume': '61682'}, '2024-02-28 12:50:00': {'1. open': '406.6200', '2. high': '406.8100', '3. low': '406.5500', '4. close': '406.6270', '5. volume': '52997'}, '2024-02-28 12:45:00': {'1. open': '406.2700', '2. high': '406.7500', '3. low': '406.2500', '4. close': '406.6150', '5. volume': '88634'}, '2024-02-28 12:40:00': {'1. open': '406.0500', '2. high': '406.3950', '3. low': '406.0100', '4. close': '406.2800', '5. volume': '78166'}, '2024-02-28 12:35:00': {'1. open': '406.2600', '2. high': '406.4000', '3. low': '406.0350', '4. close': '406.0500', '5. volume': '61394'}, '2024-02-28 12:30:00': {'1. open': '406.7000', '2. high': '406.7060', '3. low': '406.2000', '4. close': '406.3300', '5. volume': '86872'}, '2024-02-28 12:25:00': {'1. open': '406.8400', '2. high': '406.9000', '3. low': '406.5700', '4. close': '406.7000', '5. volume': '64968'}, '2024-02-28 12:20:00': {'1. open': '406.9200', '2. high': '406.9600', '3. low': '406.6800', '4. close': '406.8600', '5. volume': '79071'}, '2024-02-28 12:15:00': {'1. open': '407.1750', '2. high': '407.2420', '3. low': '406.8900', '4. close': '406.9400', '5. volume': '73601'}, '2024-02-28 12:10:00': {'1. open': '407.3980', '2. high': '407.4380', '3. low': '407.1000', '4. close': '407.1780', '5. volume': '59418'}, '2024-02-28 12:05:00': {'1. open': '407.3800', '2. high': '407.5600', '3. low': '407.1350', '4. close': '407.4200', '5. volume': '84146'}, '2024-02-28 12:00:00': {'1. open': '407.2900', '2. high': '407.5110', '3. low': '406.9800', '4. close': '407.3800', '5. volume': '89922'}, '2024-02-28 11:55:00': {'1. open': '407.1830', '2. high': '407.5500', '3. low': '407.1050', '4. close': '407.3200', '5. volume': '59536'}, '2024-02-28 11:50:00': {'1. open': '407.5170', '2. high': '407.6300', '3. low': '407.1400', '4. close': '407.2150', '5. volume': '59045'}, '2024-02-28 11:45:00': {'1. open': '407.8600', '2. high': '407.8800', '3. low': '407.4900', '4. close': '407.5100', '5. volume': '67802'}, '2024-02-28 11:40:00': {'1. open': '407.6400', '2. high': '407.8800', '3. low': '407.4740', '4. close': '407.8680', '5. volume': '84734'}}}\n"
          ]
        }
      ]
    }
  ]
}