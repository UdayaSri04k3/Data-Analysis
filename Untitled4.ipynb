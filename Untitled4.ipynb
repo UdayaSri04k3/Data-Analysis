{
  "nbformat": 4,
  "nbformat_minor": 0,
  "metadata": {
    "colab": {
      "provenance": []
    },
    "kernelspec": {
      "name": "python3",
      "display_name": "Python 3"
    },
    "language_info": {
      "name": "python"
    }
  },
  "cells": [
    {
      "cell_type": "code",
      "source": [
        "from tensorflow.keras.models import load_model\n",
        "from tensorflow.keras.preprocessing import image\n",
        "import numpy as np"
      ],
      "metadata": {
        "id": "or8XkkbZiozZ"
      },
      "execution_count": null,
      "outputs": []
    },
    {
      "cell_type": "code",
      "source": [
        "#Load the saved model\n",
        "model=load_model('/content/Model.h5')\n",
        "#load and prepocess the test image\n",
        "test_image_path='/content/drive/MyDrive/Brain_Tumor_Detection/Train/no/No12.jpg'\n",
        "img = image.load_img(test_image_path, target_size=(224,224))\n",
        "img_array =image.img_to_array(img)\n",
        "img_array = np.expand_dims(img_array,axis=0)"
      ],
      "metadata": {
        "id": "WRy9wjb5kKEZ"
      },
      "execution_count": null,
      "outputs": []
    },
    {
      "cell_type": "code",
      "source": [
        "from google.colab import drive\n",
        "drive.mount('/content/drive')"
      ],
      "metadata": {
        "colab": {
          "base_uri": "https://localhost:8080/"
        },
        "id": "w4372aoslm9O",
        "outputId": "87cdfb89-0cf4-4dce-844a-2c1775d2d1ec"
      },
      "execution_count": null,
      "outputs": [
        {
          "output_type": "stream",
          "name": "stdout",
          "text": [
            "Drive already mounted at /content/drive; to attempt to forcibly remount, call drive.mount(\"/content/drive\", force_remount=True).\n"
          ]
        }
      ]
    },
    {
      "cell_type": "code",
      "source": [
        "#Add batch dimension\n",
        "img_array /=255.  #Normalize the pixel values\n",
        "#Make predictions\n",
        "prediction = model.predict(img_array)\n",
        "#Print the prediction\n",
        "print(prediction)"
      ],
      "metadata": {
        "colab": {
          "base_uri": "https://localhost:8080/"
        },
        "id": "vFaQIbr3mllg",
        "outputId": "67f8510f-7158-4dbb-8be8-9618c42a4994"
      },
      "execution_count": null,
      "outputs": [
        {
          "output_type": "stream",
          "name": "stdout",
          "text": [
            "1/1 [==============================] - 0s 318ms/step\n",
            "[[0.4706855]]\n"
          ]
        }
      ]
    },
    {
      "cell_type": "code",
      "source": [
        "if prediction < 0.5:\n",
        "  print(\"Prediction: No tumer (Probability:\",prediction[0][0])\n",
        "else:\n",
        "  print(\"Prediction: Tumor present (Probability:\",prediction[0][0])"
      ],
      "metadata": {
        "colab": {
          "base_uri": "https://localhost:8080/"
        },
        "id": "l9_X5z7woMAz",
        "outputId": "4ca1e8a7-dd42-4c6e-9e31-f83abff2105a"
      },
      "execution_count": null,
      "outputs": [
        {
          "output_type": "stream",
          "name": "stdout",
          "text": [
            "Prediction: No tumer (Probability: 0.4706855\n"
          ]
        }
      ]
    }
  ]
}